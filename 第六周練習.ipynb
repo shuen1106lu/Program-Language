{
  "nbformat": 4,
  "nbformat_minor": 0,
  "metadata": {
    "colab": {
      "provenance": [],
      "include_colab_link": true
    },
    "kernelspec": {
      "name": "python3",
      "display_name": "Python 3"
    },
    "language_info": {
      "name": "python"
    }
  },
  "cells": [
    {
      "cell_type": "markdown",
      "metadata": {
        "id": "view-in-github",
        "colab_type": "text"
      },
      "source": [
        "<a href=\"https://colab.research.google.com/github/shuen1106lu/Program-Language/blob/main/%E7%AC%AC%E5%85%AD%E5%91%A8%E7%B7%B4%E7%BF%92.ipynb\" target=\"_parent\"><img src=\"https://colab.research.google.com/assets/colab-badge.svg\" alt=\"Open In Colab\"/></a>"
      ]
    },
    {
      "cell_type": "code",
      "source": [
        "# 授權 Google Colab 存取 Google Sheets\n",
        "from google.colab import auth\n",
        "auth.authenticate_user()\n",
        "\n",
        "import gspread\n",
        "from google.auth import default\n",
        "import pandas as pd"
      ],
      "metadata": {
        "id": "40GS9oSvKXxi"
      },
      "execution_count": 51,
      "outputs": []
    },
    {
      "cell_type": "code",
      "source": [
        "# 認證 Google Sheets API\n",
        "creds, _ = default()\n",
        "gc = gspread.authorize(creds)\n",
        "\n",
        "# 讀取 Google Sheets（請換成你的試算表網址）\n",
        "gsheets = gc.open_by_url('https://docs.google.com/spreadsheets/d/12MLiOu97Fv0jzbrSE5SMfYePBjwsKyBhax-j1paMMFY/edit?usp=sharing')\n",
        "\n",
        "# 選擇第一個工作表\n",
        "worksheet = gsheets.get_worksheet(0)\n"
      ],
      "metadata": {
        "id": "2AuRjx4eKZ6K"
      },
      "execution_count": 52,
      "outputs": []
    },
    {
      "cell_type": "code",
      "source": [
        "# 取得所有數據\n",
        "data = worksheet.get_all_values()\n",
        "df = pd.DataFrame(data[1:], columns=data[0])  # 第一行作為欄位名稱\n",
        "\n",
        "# 去除可能的空格\n",
        "df = df.applymap(lambda x: x.strip() if isinstance(x, str) else x)"
      ],
      "metadata": {
        "colab": {
          "base_uri": "https://localhost:8080/"
        },
        "id": "hhjzfK3GKcAK",
        "outputId": "42bacce7-2e68-4b66-c93f-766fcde8df7e"
      },
      "execution_count": 53,
      "outputs": [
        {
          "output_type": "stream",
          "name": "stderr",
          "text": [
            "<ipython-input-53-4aef1deb1674>:6: FutureWarning: DataFrame.applymap has been deprecated. Use DataFrame.map instead.\n",
            "  df = df.applymap(lambda x: x.strip() if isinstance(x, str) else x)\n"
          ]
        }
      ]
    },
    {
      "cell_type": "code",
      "source": [
        "# **從標題列篩選出真正的車站名稱**\n",
        "valid_stations = []\n",
        "for col in df.columns[3:]:  # 跳過前 3 欄\n",
        "    if \"混雜率\" in col or \"出發時間\" in col:  # 遇到這些欄位就停止\n",
        "        break\n",
        "    valid_stations.append(col)"
      ],
      "metadata": {
        "id": "sZMXsplAO4K0"
      },
      "execution_count": 54,
      "outputs": []
    },
    {
      "cell_type": "code",
      "source": [
        "# 計算「每列車」的準時比率與早到比率（通過 = 準時）\n",
        "def calc_rate_with_pass(row, status):\n",
        "    total_stops = len(valid_stations)  # 限定只計算車站欄位\n",
        "    matching_stops = ((row[valid_stations] == status) | (row[valid_stations] == \"通過\")).sum() if status == \"準時\" else (row[valid_stations] == status).sum()\n",
        "    return matching_stops / total_stops if total_stops > 0 else 0  # 避免除以 0\n",
        "\n",
        "df[\"準時比率\"] = df.apply(lambda row: calc_rate_with_pass(row, \"準時\"), axis=1)\n",
        "df[\"誤點比率\"] = df.apply(lambda row: calc_rate_with_pass(row, \"誤點\"), axis=1)\n",
        "df[\"早到比率\"] = df.apply(lambda row: calc_rate_with_pass(row, \"早到\"), axis=1)\n",
        "\n",
        "# 轉換為百分比格式（四捨五入到小數點後 2 位）\n",
        "df[\"準時比率\"] = (df[\"準時比率\"] * 100).round(2).astype(str) + \"%\"\n",
        "df[\"誤點比率\"] = (df[\"誤點比率\"] * 100).round(2).astype(str) + \"%\"\n",
        "df[\"早到比率\"] = (df[\"早到比率\"] * 100).round(2).astype(str) + \"%\"\n",
        "\n",
        "# 顯示結果（列車車次 + 準時比率 + 早到比率）\n",
        "df_result = df[[\"列車車次\",\"準時比率\",\"誤點比率\",\"早到比率\"]]\n",
        "# 取出「混雜率」和「出發時間」欄位（假設名稱為 '混雜率' 和 '出發時間'）\n",
        "df_result.loc[:, \"混雜率\"] = df[\"混雜率\"]\n",
        "df_result.loc[:, \"出發時間\"] = df[\"出發時間\"]\n",
        "\n",
        "# 顯示結果，包含列車編號、準時比率、早到比率、混雜率和出發時間\n",
        "print(df_result)"
      ],
      "metadata": {
        "colab": {
          "base_uri": "https://localhost:8080/"
        },
        "id": "7nVqDEcOO9wE",
        "outputId": "3d896b7e-0920-4288-8b17-ea3248cea97f"
      },
      "execution_count": 62,
      "outputs": [
        {
          "output_type": "stream",
          "name": "stdout",
          "text": [
            "    列車車次    準時比率   誤點比率   早到比率   混雜率   出發時間\n",
            "0  1431M   60.0%  30.0%  10.0%   75%   7:32\n",
            "1  2015M   90.0%  10.0%   0.0%   82%  10:27\n",
            "2  3951F   50.0%  30.0%  20.0%  101%  11:31\n",
            "3  4177F   40.0%  40.0%  20.0%   79%  13:00\n",
            "4  2027M  100.0%   0.0%   0.0%   85%  13:28\n",
            "5  1247F   80.0%  10.0%  10.0%  121%  13:48\n",
            "6  4213F   40.0%  40.0%  20.0%   94%  15:01\n",
            "7  2047M   80.0%  20.0%   0.0%   99%  18:29\n"
          ]
        },
        {
          "output_type": "stream",
          "name": "stderr",
          "text": [
            "<ipython-input-62-24c7b40c3937>:19: SettingWithCopyWarning: \n",
            "A value is trying to be set on a copy of a slice from a DataFrame.\n",
            "Try using .loc[row_indexer,col_indexer] = value instead\n",
            "\n",
            "See the caveats in the documentation: https://pandas.pydata.org/pandas-docs/stable/user_guide/indexing.html#returning-a-view-versus-a-copy\n",
            "  df_result.loc[:, \"混雜率\"] = df[\"混雜率\"]\n",
            "<ipython-input-62-24c7b40c3937>:20: SettingWithCopyWarning: \n",
            "A value is trying to be set on a copy of a slice from a DataFrame.\n",
            "Try using .loc[row_indexer,col_indexer] = value instead\n",
            "\n",
            "See the caveats in the documentation: https://pandas.pydata.org/pandas-docs/stable/user_guide/indexing.html#returning-a-view-versus-a-copy\n",
            "  df_result.loc[:, \"出發時間\"] = df[\"出發時間\"]\n"
          ]
        }
      ]
    },
    {
      "cell_type": "code",
      "source": [
        "import matplotlib.pyplot as plt\n",
        "import seaborn as sns\n",
        "import matplotlib as mpl\n",
        "\n",
        "# 假設你已經有 df_result，並且包含了「準時比率」和「混雜率」這兩個參數\n",
        "\n",
        "# 將數據按「準時比率」排序\n",
        "df_sorted = df_result.sort_values(by=\"準時比率\")\n",
        "df_sorted = df_result.sort_values(by=\"早到比率\")\n",
        "df_sorted = df_result.sort_values(by=\"誤點比率\")\n",
        "\n",
        "# 繪製散佈圖，使用顏色來顯示誤點比率\n",
        "plt.figure(figsize=(8, 6))\n",
        "sns.scatterplot(data=df_result,\n",
        "                x=\"準時比率\",\n",
        "                y=\"早到比率\",\n",
        "                hue=\"誤點比率\",  # 根據誤點比率設定顏色\n",
        "                palette=\"coolwarm\",  # 顏色調色板，可以根據需求選擇\n",
        "                size=\"誤點比率\",  # 可以根據誤點比率調整點的大小，這是可選的\n",
        "                sizes=(100, 400),  # 點的大小範圍\n",
        "                legend=False)  # 是否顯示圖例（根據需要顯示）\n",
        "\n",
        "# 標註每個點的列車編號\n",
        "# 在每個點上標註列車編號和誤點比率\n",
        "for idx, row in df_result.iterrows():\n",
        "    train_id = row[\"列車車次\"]  # 假設列車編號在這一列\n",
        "    lateness_rate = row[\"誤點比率\"]\n",
        "    x = row[\"準時比率\"]\n",
        "    y = row[\"早到比率\"]\n",
        "\n",
        "    # 在點旁邊標註列車編號和誤點比率\n",
        "    plt.text(x, y, f'{train_id}\\n{lateness_rate:.2%}', fontsize=8, ha='center', va='center')\n",
        "\n",
        "\n",
        "# 設定圖表標題和軸標籤\n",
        "plt.title(\"On time% vs Early% vs Late% Sheet\")\n",
        "plt.xlabel(\"On time (%)\")\n",
        "plt.ylabel(\"Early (%)\")\n",
        "plt.show()"
      ],
      "metadata": {
        "colab": {
          "base_uri": "https://localhost:8080/",
          "height": 564
        },
        "id": "dHH63Uw8SIl9",
        "outputId": "599c3adb-551a-4e39-a13e-3f09e8378d5c"
      },
      "execution_count": 97,
      "outputs": [
        {
          "output_type": "display_data",
          "data": {
            "text/plain": [
              "<Figure size 800x600 with 1 Axes>"
            ],
            "image/png": "[encoded data removed]"
          },
          "metadata": {}
        }
      ]
    }
  ]
}
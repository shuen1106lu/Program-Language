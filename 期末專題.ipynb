{
  "nbformat": 4,
  "nbformat_minor": 0,
  "metadata": {
    "colab": {
      "provenance": [],
      "authorship_tag": "ABX9TyNwWimdaPdwy/hzEqkuvOTw",
      "include_colab_link": true
    },
    "kernelspec": {
      "name": "python3",
      "display_name": "Python 3"
    },
    "language_info": {
      "name": "python"
    }
  },
  "cells": [
    {
      "cell_type": "markdown",
      "metadata": {
        "id": "view-in-github",
        "colab_type": "text"
      },
      "source": [
        "<a href=\"https://colab.research.google.com/github/shuen1106lu/Program-Language/blob/main/%E6%9C%9F%E6%9C%AB%E5%B0%88%E9%A1%8C.ipynb\" target=\"_parent\"><img src=\"https://colab.research.google.com/assets/colab-badge.svg\" alt=\"Open In Colab\"/></a>"
      ]
    },
    {
      "cell_type": "code",
      "execution_count": null,
      "metadata": {
        "id": "D_mjWWmTozbJ"
      },
      "outputs": [],
      "source": [
        "# 授權 Google Colab 存取 Google Sheets\n",
        "from google.colab import auth\n",
        "auth.authenticate_user()\n",
        "\n",
        "import gspread\n",
        "from google.auth import default\n",
        "import pandas as pd"
      ]
    },
    {
      "cell_type": "code",
      "source": [
        "# 認證 Google Sheets API\n",
        "creds, _ = default()\n",
        "gc = gspread.authorize(creds)\n",
        "\n",
        "# 讀取 Google Sheets(病人資料)\n",
        "gsheets = gc.open_by_url('https://docs.google.com/spreadsheets/d/1ucZMuaJx7Y7yBj8fm2A0MK0WTU4RyEKlDiDzqlmQKcA/edit?usp=sharing')\n",
        "\n",
        "# 選擇第一個工作表\n",
        "worksheet = gsheets.get_worksheet(0)"
      ],
      "metadata": {
        "id": "4hpkmlx01MUy"
      },
      "execution_count": null,
      "outputs": []
    }
  ]
}